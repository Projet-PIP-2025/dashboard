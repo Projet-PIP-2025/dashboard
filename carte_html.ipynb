{
 "cells": [
  {
   "cell_type": "markdown",
   "metadata": {},
   "source": [
    "# Import library et data"
   ]
  },
  {
   "cell_type": "code",
   "execution_count": 1,
   "metadata": {},
   "outputs": [],
   "source": [
    "import folium\n",
    "import json\n",
    "import numpy as np\n",
    "import plotly.express as px\n",
    "from folium.plugins import HeatMap\n",
    "from folium import Choropleth, LayerControl, GeoJsonTooltip\n",
    "import pandas as pd\n"
   ]
  },
  {
   "cell_type": "code",
   "execution_count": 2,
   "metadata": {},
   "outputs": [
    {
     "name": "stderr",
     "output_type": "stream",
     "text": [
      "C:\\Users\\MRH4\\AppData\\Local\\Temp\\ipykernel_5480\\3401793680.py:1: DtypeWarning: Columns (0,5) have mixed types. Specify dtype option on import or set low_memory=False.\n",
      "  nb_voitures = pd.read_csv(\"data/nb_voiture_annee_cdr.csv\")\n",
      "C:\\Users\\MRH4\\AppData\\Local\\Temp\\ipykernel_5480\\3401793680.py:8: DtypeWarning: Columns (1,3) have mixed types. Specify dtype option on import or set low_memory=False.\n",
      "  bornes = pd.read_csv(\"data/bornes_completes.csv\")\n",
      "C:\\Users\\MRH4\\AppData\\Local\\Temp\\ipykernel_5480\\3401793680.py:9: DtypeWarning: Columns (18,19,20,21,22,23,24,29,33) have mixed types. Specify dtype option on import or set low_memory=False.\n",
      "  bornes2 = pd.read_csv(\"data/Bornes_nettoye2.csv\", delimiter = \";\")\n"
     ]
    }
   ],
   "source": [
    "nb_voitures = pd.read_csv(\"data/nb_voiture_annee_cdr.csv\")\n",
    "nb_voiture_commune = pd.read_csv(\"data/nb_voiture_commune.csv\")\n",
    "nb_voiture_dep = pd.read_csv(\"data/nb_voiture_dep.csv\")\n",
    "nb_voiture_reg = pd.read_csv(\"data/nb_voiture_reg.csv\")\n",
    "bornes_vehicules_dep = pd.read_csv(\"data/croisement_donnee_borne_voiture_departement.csv\", encoding=\"utf-8\")\n",
    "bornes_vehicules_reg = pd.read_csv(\"data/croisement_donnee_borne_voiture_region.csv\", encoding=\"utf-8\")\n",
    "\n",
    "bornes = pd.read_csv(\"data/bornes_completes.csv\")\n",
    "bornes2 = pd.read_csv(\"data/Bornes_nettoye2.csv\", delimiter = \";\")\n",
    "population2 = pd.read_csv(\"data/population2.csv\")\n",
    "trafic_dep = pd.read_csv(\"data/tmja_dep_df.csv\")\n",
    "trafic_reg = pd.read_csv(\"data/tmja_reg.csv\")\n",
    "\n",
    "with open(\"data/communes.geojson\", 'r') as f:\n",
    "    geojson_data_com = json.load(f)\n",
    "\n",
    "with open(\"data/france_departments.geojson\", 'r') as f:\n",
    "    geojson_data_dep = json.load(f)\n",
    "with open(\"data/carte_interactive_avec_bornes.html\", \"r\"   ) as file:\n",
    "    carte_html = file.read()\n",
    "with open(\"data/carte_tmja_troncons.html\", \"r\"   ) as file:\n",
    "    carte_html2 = file.read()\n",
    "\n",
    "with open(\"data/regions.geojson\", 'r') as f:\n",
    "    geojson_data_reg = json.load(f)"
   ]
  },
  {
   "cell_type": "code",
   "execution_count": 3,
   "metadata": {},
   "outputs": [],
   "source": [
    "def create_map(nb_voiture_commune_dep, geojson_data,col_granu, info_carte):\n",
    "    # Initialisation de la carte centrée sur la France\n",
    "    map = folium.Map(location=[46.603354, 1.8883344], zoom_start=6, tiles='CartoDB positron')\n",
    "\n",
    "    if info_carte == \"nombre de véhicule\":\n",
    "        # Conversion des données en dictionnaire pour relier avec le GeoJSON\n",
    "        col = 'nb_vp_rechargeables_el'\n",
    "    elif info_carte == \"ratio de véhicule électrique par rapport au total\":\n",
    "        # Conversion des données en dictionnaire pour relier avec le GeoJSON\n",
    "        col = 'ratio_elec_total'\n",
    "\n",
    "    vehicle_dict = nb_voiture_commune_dep.set_index(col_granu)[col].to_dict()\n",
    "    # Mets les keys au format list str\n",
    "    vehicle_dict = {str(k): v for k, v in vehicle_dict.items()}\n",
    "    # Ajout des données au GeoJSON\n",
    "    for feature in geojson_data['features']:\n",
    "        feature_code = feature['properties']['code']\n",
    "        feature['properties']['vehicles'] = vehicle_dict.get(feature_code, 'N/A')\n",
    "\n",
    "    # Ajout d'un choropleth pour afficher les données\n",
    "    folium.Choropleth(\n",
    "        geo_data=geojson_data,\n",
    "        name=\"Véhicules électriques par département\",\n",
    "        data=nb_voiture_commune_dep,\n",
    "        columns=[col_granu, col],\n",
    "        key_on='feature.properties.code',\n",
    "        fill_color='YlGnBu',\n",
    "        fill_opacity=0.7,\n",
    "        line_opacity=0.05,\n",
    "        legend_name=\"Nombre de véhicules électriques\"\n",
    "    ).add_to(map)\n",
    "    # Ajout de tooltips interactifs\n",
    "    folium.GeoJson(\n",
    "        geojson_data,\n",
    "        name=\"Détails\",\n",
    "        tooltip=folium.GeoJsonTooltip(\n",
    "            fields=['code', 'nom', 'vehicles'],\n",
    "            aliases=['Code :', 'Nom:', 'Véhicules électriques:']\n",
    "        )\n",
    "    ).add_to(map)\n",
    "\n",
    "    # Ajout des contrôles de couches\n",
    "    folium.LayerControl().add_to(map)\n",
    "    \n",
    "    return map"
   ]
  },
  {
   "cell_type": "code",
   "execution_count": 5,
   "metadata": {},
   "outputs": [
    {
     "name": "stderr",
     "output_type": "stream",
     "text": [
      "C:\\Users\\MRH4\\AppData\\Local\\Temp\\ipykernel_5480\\224134718.py:7: SettingWithCopyWarning: \n",
      "A value is trying to be set on a copy of a slice from a DataFrame\n",
      "\n",
      "See the caveats in the documentation: https://pandas.pydata.org/pandas-docs/stable/user_guide/indexing.html#returning-a-view-versus-a-copy\n",
      "  dataset.drop(columns=[\"annee\"], inplace=True)\n",
      "C:\\Users\\MRH4\\AppData\\Local\\Temp\\ipykernel_5480\\224134718.py:8: SettingWithCopyWarning: \n",
      "A value is trying to be set on a copy of a slice from a DataFrame.\n",
      "Try using .loc[row_indexer,col_indexer] = value instead\n",
      "\n",
      "See the caveats in the documentation: https://pandas.pydata.org/pandas-docs/stable/user_guide/indexing.html#returning-a-view-versus-a-copy\n",
      "  dataset[\"ratio_elec_total\"] = dataset[\"nb_vp_rechargeables_el\"]\t/ dataset[\"nb_vp\"]\n",
      "C:\\Users\\MRH4\\AppData\\Local\\Temp\\ipykernel_5480\\224134718.py:10: SettingWithCopyWarning: \n",
      "A value is trying to be set on a copy of a slice from a DataFrame.\n",
      "Try using .loc[row_indexer,col_indexer] = value instead\n",
      "\n",
      "See the caveats in the documentation: https://pandas.pydata.org/pandas-docs/stable/user_guide/indexing.html#returning-a-view-versus-a-copy\n",
      "  dataset[\"ratio_elec_total\"] = dataset[\"ratio_elec_total\"] * 100\n",
      "C:\\Users\\MRH4\\AppData\\Local\\Temp\\ipykernel_5480\\224134718.py:11: SettingWithCopyWarning: \n",
      "A value is trying to be set on a copy of a slice from a DataFrame.\n",
      "Try using .loc[row_indexer,col_indexer] = value instead\n",
      "\n",
      "See the caveats in the documentation: https://pandas.pydata.org/pandas-docs/stable/user_guide/indexing.html#returning-a-view-versus-a-copy\n",
      "  dataset[\"ratio_elec_total\"] = dataset[\"ratio_elec_total\"].round(2)\n"
     ]
    }
   ],
   "source": [
    "geojson_data = geojson_data_com\n",
    "info_carte = \"nombre de véhicule\"\n",
    "selected_year = 2023\n",
    "col_granu = \"codgeo\"\n",
    "dataset = nb_voiture_commune\n",
    "dataset = dataset[dataset[\"annee\"] == selected_year]\n",
    "dataset.drop(columns=[\"annee\"], inplace=True)\n",
    "dataset[\"ratio_elec_total\"] = dataset[\"nb_vp_rechargeables_el\"]\t/ dataset[\"nb_vp\"]\n",
    "# Fait ca en pourcentage nb_voiture_commune_dep[\"ratio_elec_total\"] avec 2 chiffres après la virgule\n",
    "dataset[\"ratio_elec_total\"] = dataset[\"ratio_elec_total\"] * 100\n",
    "dataset[\"ratio_elec_total\"] = dataset[\"ratio_elec_total\"].round(2)\n",
    "\n",
    "\n",
    "map = create_map(dataset, geojson_data, col_granu, info_carte)"
   ]
  },
  {
   "cell_type": "code",
   "execution_count": null,
   "metadata": {},
   "outputs": [],
   "source": []
  },
  {
   "cell_type": "code",
   "execution_count": 6,
   "metadata": {},
   "outputs": [],
   "source": [
    "map.save(\"data/Carte_html/carte_commune_2023.html\")"
   ]
  }
 ],
 "metadata": {
  "kernelspec": {
   "display_name": "base",
   "language": "python",
   "name": "python3"
  },
  "language_info": {
   "codemirror_mode": {
    "name": "ipython",
    "version": 3
   },
   "file_extension": ".py",
   "mimetype": "text/x-python",
   "name": "python",
   "nbconvert_exporter": "python",
   "pygments_lexer": "ipython3",
   "version": "3.12.3"
  }
 },
 "nbformat": 4,
 "nbformat_minor": 2
}
